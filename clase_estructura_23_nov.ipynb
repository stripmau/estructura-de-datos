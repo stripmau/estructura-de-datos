{
  "nbformat": 4,
  "nbformat_minor": 0,
  "metadata": {
    "colab": {
      "provenance": [],
      "authorship_tag": "ABX9TyNUHBgsObX72Vp9eFYeLGv8",
      "include_colab_link": true
    },
    "kernelspec": {
      "name": "python3",
      "display_name": "Python 3"
    },
    "language_info": {
      "name": "python"
    }
  },
  "cells": [
    {
      "cell_type": "markdown",
      "metadata": {
        "id": "view-in-github",
        "colab_type": "text"
      },
      "source": [
        "<a href=\"https://colab.research.google.com/github/stripmau/estructura-de-datos/blob/main/clase_estructura_23_nov.ipynb\" target=\"_parent\"><img src=\"https://colab.research.google.com/assets/colab-badge.svg\" alt=\"Open In Colab\"/></a>"
      ]
    },
    {
      "cell_type": "markdown",
      "source": [
        "ordenamiento de burbuja (bubble sort)"
      ],
      "metadata": {
        "id": "xaNkHh3_7KBK"
      }
    },
    {
      "cell_type": "code",
      "source": [
        "def bubbleSort(nums):\n",
        "  intercambio = True\n",
        "  while intercambio:\n",
        "    intercambio = False\n",
        "    for i in range(len(nums) - 1):\n",
        "      if nums [i]  > nums[i+1]:\n",
        "\n",
        "        nums[i], nums[i+1] = nums[i+1], nums[i]\n",
        "        intercambio = True\n",
        "\n",
        "listaNumerosAleatorios = [5, 2, 1, 8, 4]\n",
        "bubbleSort(listaNumerosAleatorios)\n",
        "print(listaNumerosAleatorios)\n"
      ],
      "metadata": {
        "colab": {
          "base_uri": "https://localhost:8080/"
        },
        "id": "rQ3IJbiW7LKF",
        "outputId": "e0fe7601-bca4-447c-a372-d142ff456ac5"
      },
      "execution_count": 4,
      "outputs": [
        {
          "output_type": "stream",
          "name": "stdout",
          "text": [
            "[1, 2, 4, 5, 8]\n"
          ]
        }
      ]
    },
    {
      "cell_type": "markdown",
      "source": [
        "orden de selccion (selection sort)"
      ],
      "metadata": {
        "id": "8i-MlXz136cp"
      }
    },
    {
      "cell_type": "code",
      "execution_count": 1,
      "metadata": {
        "colab": {
          "base_uri": "https://localhost:8080/"
        },
        "id": "rtw-jFeR3vgz",
        "outputId": "ec99428d-b7bc-4e1a-e99d-6b46ee855897"
      },
      "outputs": [
        {
          "output_type": "stream",
          "name": "stdout",
          "text": [
            "Lista sin orden: [5, 2, 1, 8, 4]\n",
            "Lista ordenada: [1, 2, 4, 5, 8]\n"
          ]
        }
      ],
      "source": [
        "def selectionSort(nums):\n",
        "    for i in range(len(nums)):\n",
        "        lowest_value_index = i\n",
        "\n",
        "        for j in range(i + 1, len(nums)):\n",
        "            if nums[j] < nums[lowest_value_index]:\n",
        "                lowest_value_index = j\n",
        "\n",
        "        nums[i], nums[lowest_value_index] = nums[lowest_value_index], nums[i]\n",
        "\n",
        "listaNumerosAleatorios = [5, 2, 1, 8, 4]\n",
        "print(\"Lista sin orden: \" + str(listaNumerosAleatorios))\n",
        "selectionSort(listaNumerosAleatorios)\n",
        "print(\"Lista ordenada: \" + str(listaNumerosAleatorios))\n"
      ]
    },
    {
      "cell_type": "markdown",
      "source": [
        "Tipo de inserción (Insert Sort)"
      ],
      "metadata": {
        "id": "alcjEpzQ4DIm"
      }
    },
    {
      "cell_type": "code",
      "source": [
        "def insertionSort(nums):\n",
        "    for i in range(len(nums)):\n",
        "        item_to_insert  = nums [i]\n",
        "\n",
        "        j= i - 1\n",
        "\n",
        "\n",
        "        while j>= 0 and nums[j] > item_to_insert:\n",
        "            nums[j + 1]= nums[j]\n",
        "            j-= 1\n",
        "\n",
        "        nums[j + 1] = item_to_insert\n",
        "\n",
        "\n",
        "listaNumerosAleatorios = [6, 3, 1, 9, 5]\n",
        "print(\"Lista sin orden: \" + str(listaNumerosAleatorios))\n",
        "insertionSort(listaNumerosAleatorios)\n",
        "print(\"Lista ordenada: \" + str(listaNumerosAleatorios))\n"
      ],
      "metadata": {
        "colab": {
          "base_uri": "https://localhost:8080/"
        },
        "id": "GQQGfdXy6saL",
        "outputId": "2774f337-c29d-4080-cde2-821743e87801"
      },
      "execution_count": 2,
      "outputs": [
        {
          "output_type": "stream",
          "name": "stdout",
          "text": [
            "Lista sin orden: [6, 3, 1, 9, 5]\n",
            "Lista ordenada: [1, 3, 5, 6, 9]\n"
          ]
        }
      ]
    },
    {
      "cell_type": "markdown",
      "source": [
        "combinar ordenacion (merge sort)"
      ],
      "metadata": {
        "id": "8lsGnhxC-h-x"
      }
    },
    {
      "cell_type": "code",
      "source": [
        "def merge(left_list, right_list):\n",
        "    sorted_list = []\n",
        "    left_list_index = right_list_index = 0\n",
        "\n",
        "    left_list_length, right_list_length = len(left_list), len(right_list)\n",
        "\n",
        "    for _ in range(left_list_length + right_list_length):\n",
        "        if left_list_index < left_list_length and right_list_index < right_list_length:\n",
        "            if left_list[left_list_index] <= right_list[right_list_index]:\n",
        "                sorted_list.append(left_list[left_list_index])\n",
        "                left_list_index += 1\n",
        "            else:\n",
        "                sorted_list.append(right_list[right_list_index])\n",
        "                right_list_index += 1\n",
        "        elif left_list_index == left_list_length:\n",
        "            sorted_list.append(right_list[right_list_index])\n",
        "            right_list_index += 1\n",
        "        elif right_list_index == right_list_length:\n",
        "            sorted_list.append(left_list[left_list_index])\n",
        "            left_list_index += 1\n",
        "\n",
        "    return sorted_list\n",
        "\n",
        "def mergeSort(nums):\n",
        "    if len(nums) <= 1:\n",
        "        return nums\n",
        "\n",
        "    mid = len(nums) // 2\n",
        "    left_list = mergeSort(nums[:mid])\n",
        "    right_list = mergeSort(nums[mid:])\n",
        "\n",
        "    return merge(left_list, right_list)\n",
        "\n",
        "listaNumerosAleatorios = [5, 2, 1, 8, 4]\n",
        "print(\"Lista sin orden: \" + str(listaNumerosAleatorios))\n",
        "listaNumerosAleatorios = mergeSort(listaNumerosAleatorios)\n",
        "print(\"Lista ordenada: \" + str(listaNumerosAleatorios))\n",
        "\n"
      ],
      "metadata": {
        "colab": {
          "base_uri": "https://localhost:8080/"
        },
        "id": "fvcy1GJG-n4q",
        "outputId": "9ab5802e-f559-4ab0-e21f-6e1e6d895818"
      },
      "execution_count": 5,
      "outputs": [
        {
          "output_type": "stream",
          "name": "stdout",
          "text": [
            "Lista sin orden: [5, 2, 1, 8, 4]\n",
            "Lista ordenada: [1, 2, 4, 5, 8]\n"
          ]
        }
      ]
    }
  ]
}