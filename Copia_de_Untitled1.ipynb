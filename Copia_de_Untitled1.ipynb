{
  "nbformat": 4,
  "nbformat_minor": 0,
  "metadata": {
    "colab": {
      "provenance": [],
      "authorship_tag": "ABX9TyOA3HH8a6iAPTKKWaYhsnhV",
      "include_colab_link": true
    },
    "kernelspec": {
      "name": "python3",
      "display_name": "Python 3"
    },
    "language_info": {
      "name": "python"
    }
  },
  "cells": [
    {
      "cell_type": "markdown",
      "metadata": {
        "id": "view-in-github",
        "colab_type": "text"
      },
      "source": [
        "<a href=\"https://colab.research.google.com/github/stripmau/estructura-de-datos/blob/main/Copia_de_Untitled1.ipynb\" target=\"_parent\"><img src=\"https://colab.research.google.com/assets/colab-badge.svg\" alt=\"Open In Colab\"/></a>"
      ]
    },
    {
      "cell_type": "code",
      "execution_count": null,
      "metadata": {
        "id": "7tUb6kCnFE2K"
      },
      "outputs": [],
      "source": []
    },
    {
      "cell_type": "code",
      "source": [
        "nombre=str(input (\"DAME TU NOMBRE:\"))\n",
        "print(f\"hola {nombre}\")\n",
        "comoestas=str (input (\"como estas?\"))\n",
        "\n",
        "edad=str(input(\"DAME TU EDAD:\"))\n",
        "print(f\"{nombre} de {edad} años\")\n",
        "\n",
        "\n"
      ],
      "metadata": {
        "id": "qhydVp1lFHgS",
        "colab": {
          "base_uri": "https://localhost:8080/"
        },
        "outputId": "65512335-ce27-47cc-80eb-e23291f62a03"
      },
      "execution_count": 10,
      "outputs": [
        {
          "output_type": "stream",
          "name": "stdout",
          "text": [
            "DAME TU NOMBRE:mau\n",
            "hola mau\n",
            "como estas?bien\n",
            "DAME TU EDAD:18\n",
            "mau de 18 años\n"
          ]
        }
      ]
    },
    {
      "cell_type": "markdown",
      "source": [
        "EJEMPLO CON WHILE"
      ],
      "metadata": {
        "id": "VqpzSo8uG4ZU"
      }
    },
    {
      "cell_type": "code",
      "source": [
        "m=1\n",
        "l=0\n",
        "while l<=m:\n",
        "  nombre=str(input(\"DAME TU NOMBRE:\"))\n",
        "  print(f\"hola {nombre}\")\n",
        "  comoestas=str (input (\"como estas?\"))\n",
        "\n",
        "  edad=str(input(\"DAME TU EDAD:\"))\n",
        "  print(f\"{nombre} de {edad}años\\n\")\n",
        "  l=int(input(\"QUIERES SEGUIR?\\n  1:si\\n  2:no\\n\"))\n",
        "\n"
      ],
      "metadata": {
        "colab": {
          "base_uri": "https://localhost:8080/"
        },
        "id": "wRffYQLDHQqp",
        "outputId": "3951bc6b-7c02-4ab3-92a0-c09bb4e8ec15"
      },
      "execution_count": 14,
      "outputs": [
        {
          "name": "stdout",
          "output_type": "stream",
          "text": [
            "DAME TU NOMBRE:mau\n",
            "hola mau\n",
            "como estas?bien\n",
            "DAME TU EDAD:18\n",
            "mau de 18años\n",
            "\n",
            "QUIERES SEGUIR?\n",
            "  1:si\n",
            "  2:no\n",
            "1\n",
            "DAME TU NOMBRE:juan\n",
            "hola juan\n",
            "como estas?exelente\n",
            "DAME TU EDAD:19\n",
            "juan de 19años\n",
            "\n",
            "QUIERES SEGUIR?\n",
            "  1:si\n",
            "  2:no\n",
            "2\n"
          ]
        }
      ]
    },
    {
      "cell_type": "markdown",
      "source": [
        "EJEMPLO CON ARREGLO"
      ],
      "metadata": {
        "id": "ebF1bQVxS27A"
      }
    },
    {
      "cell_type": "code",
      "source": [
        "m=0\n",
        "l=1\n",
        "a=[]\n",
        "while l<=1:\n",
        "  a.append(0)\n",
        "  nombre=str(input(\"DAME TU NOMBRE:\"))\n",
        "  edad=int(input(\"DAME TU EDAD:\"))\n",
        "  a[m]=nombre,edad\n",
        "  m=m+1\n",
        "  print(a)\n",
        "  l=int(input(\"QUIERES SEGUIR?\\n  1:si\\n  2:no\\n\"))\n",
        "  if l==1:\n",
        "    continue\n",
        "  else:\n",
        "    break\n"
      ],
      "metadata": {
        "colab": {
          "base_uri": "https://localhost:8080/"
        },
        "id": "nFLEiv8vS7K9",
        "outputId": "42bc58d0-d139-471d-ca20-10f1134434ce"
      },
      "execution_count": 16,
      "outputs": [
        {
          "name": "stdout",
          "output_type": "stream",
          "text": [
            "DAME TU NOMBRE:mau\n",
            "DAME TU EDAD:18\n",
            "[('mau', 18)]\n",
            "QUIERES SEGUIR?\n",
            "  1:si\n",
            "  2:no\n",
            "1\n",
            "DAME TU NOMBRE:juan\n",
            "DAME TU EDAD:15\n",
            "[('mau', 18), ('juan', 15)]\n",
            "QUIERES SEGUIR?\n",
            "  1:si\n",
            "  2:no\n",
            "2\n"
          ]
        }
      ]
    }
  ]
}