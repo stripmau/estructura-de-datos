{
  "nbformat": 4,
  "nbformat_minor": 0,
  "metadata": {
    "colab": {
      "provenance": [],
      "authorship_tag": "ABX9TyMRROXp4StOQTUCHjBeZVat",
      "include_colab_link": true
    },
    "kernelspec": {
      "name": "python3",
      "display_name": "Python 3"
    },
    "language_info": {
      "name": "python"
    }
  },
  "cells": [
    {
      "cell_type": "markdown",
      "metadata": {
        "id": "view-in-github",
        "colab_type": "text"
      },
      "source": [
        "<a href=\"https://colab.research.google.com/github/stripmau/estructura-de-datos/blob/main/avance%20del%20codigo%20cafeteria%201-9-23.ipynb\" target=\"_parent\"><img src=\"https://colab.research.google.com/assets/colab-badge.svg\" alt=\"Open In Colab\"/></a>"
      ]
    },
    {
      "cell_type": "code",
      "execution_count": 1,
      "metadata": {
        "colab": {
          "base_uri": "https://localhost:8080/"
        },
        "id": "SdZsZiYgPwB_",
        "outputId": "614f079d-70ce-4ac7-f93f-24c2b2dcbff7"
      },
      "outputs": [
        {
          "output_type": "stream",
          "name": "stdout",
          "text": [
            "\n",
            "Menú de opciones:\n",
            "1. Agregar alumno\n",
            "2. Agregar pedido\n",
            "3. Imprimir todos\n",
            "4. Salir\n",
            "Seleccione una opción: 1\n",
            "Ingrese el nombre del alumno: mau\n",
            "Alumno mau agregado a la lista.\n",
            "\n",
            "Menú de opciones:\n",
            "1. Agregar alumno\n",
            "2. Agregar pedido\n",
            "3. Imprimir todos\n",
            "4. Salir\n",
            "Seleccione una opción: 2\n",
            "Tipos de comida:\n",
            "1. Torta\n",
            "2. Pizza\n",
            "3. Arroz\n",
            "4. Sándwich\n",
            "5. Spagueti\n",
            "Seleccione el número de la comida: 2\n",
            "Tipos de bebida:\n",
            "1. Café\n",
            "2. Coca Cola\n",
            "3. Jugo\n",
            "Seleccione el número de la bebida: 2\n",
            "Alumnos disponibles:\n",
            "1. mau\n",
            "Seleccione el número del alumno: 1\n",
            "Pedido agregado: {'alumno': 'mau', 'comida': 'Pizza', 'bebida': 'Coca Cola'}\n",
            "\n",
            "Menú de opciones:\n",
            "1. Agregar alumno\n",
            "2. Agregar pedido\n",
            "3. Imprimir todos\n",
            "4. Salir\n",
            "Seleccione una opción: 4\n",
            "Gracias por utilizar nuestra cafeteria en linea\n"
          ]
        }
      ],
      "source": [
        "comidas = [\"Torta\", \"Pizza\", \"Arroz\", \"Sándwich\", \"Spagueti\"]\n",
        "bebidas = [\"Café\", \"Coca Cola\", \"Jugo\"]\n",
        "alumnos = []\n",
        "\n",
        "def agregar_alumno():\n",
        "    nombre_alumno = input(\"Ingrese el nombre del alumno: \")\n",
        "    alumnos.append(nombre_alumno)\n",
        "    print(f\"Alumno {nombre_alumno} agregado a la lista.\")\n",
        "\n",
        "def agregar_pedido():\n",
        "    print(\"Tipos de comida:\")\n",
        "    for i, comida in enumerate(comidas, start=1):\n",
        "        print(f\"{i}. {comida}\")\n",
        "    comida_elegida = int(input(\"Seleccione el número de la comida: \")) - 1\n",
        "\n",
        "    print(\"Tipos de bebida:\")\n",
        "    for i, bebida in enumerate(bebidas, start=1):\n",
        "        print(f\"{i}. {bebida}\")\n",
        "    bebida_elegida = int(input(\"Seleccione el número de la bebida: \")) - 1\n",
        "\n",
        "    print(\"Alumnos disponibles:\")\n",
        "    for i, alumno in enumerate(alumnos, start=1):\n",
        "        print(f\"{i}. {alumno}\")\n",
        "    alumno_elegido = int(input(\"Seleccione el número del alumno: \")) - 1\n",
        "\n",
        "    pedido = {\n",
        "        \"alumno\": alumnos[alumno_elegido],\n",
        "        \"comida\": comidas[comida_elegida],\n",
        "        \"bebida\": bebidas[bebida_elegida]\n",
        "    }\n",
        "    print(\"Pedido agregado:\", pedido)\n",
        "\n",
        "def imprimir_todo():\n",
        "    print(\"Tipos de comida disponibles:\")\n",
        "    for i, comida in enumerate(comidas, start=1):\n",
        "        print(f\"{i}. {comida}\")\n",
        "\n",
        "    print(\"\\nTipos de bebida disponibles:\")\n",
        "    for i, bebida in enumerate(bebidas, start=1):\n",
        "        print(f\"{i}. {bebida}\")\n",
        "\n",
        "    print(\"\\nAlumnos en la cafetería:\")\n",
        "    for i, alumno in enumerate(alumnos, start=1):\n",
        "        print(f\"{i}. {alumno}\")\n",
        "\n",
        "while True:\n",
        "    print(\"\\nMenú de opciones:\")\n",
        "    print(\"1. Agregar alumno\")\n",
        "    print(\"2. Agregar pedido\")\n",
        "    print(\"3. Imprimir todos\")\n",
        "    print(\"4. Salir\")\n",
        "\n",
        "    opcion = input(\"Seleccione una opción: \")\n",
        "\n",
        "    if opcion == \"1\":\n",
        "        agregar_alumno()\n",
        "    elif opcion == \"2\":\n",
        "        agregar_pedido()\n",
        "    elif opcion == \"3\":\n",
        "        imprimir_todo()\n",
        "    elif opcion == \"4\":\n",
        "        print(\"Gracias por utilizar nuestra cafeteria en linea\")\n",
        "        break\n",
        "    else:\n",
        "        print(\"Opción no válida. Por favor, seleccione una opción válida.\")"
      ]
    }
  ]
}