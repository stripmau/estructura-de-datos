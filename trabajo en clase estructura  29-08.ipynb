{
  "cells": [
    {
      "cell_type": "markdown",
      "metadata": {
        "id": "view-in-github",
        "colab_type": "text"
      },
      "source": [
        "<a href=\"https://colab.research.google.com/github/stripmau/estructura-de-datos/blob/main/trabajo%20en%20clase%20estructura%20%2029-08.ipynb\" target=\"_parent\"><img src=\"https://colab.research.google.com/assets/colab-badge.svg\" alt=\"Open In Colab\"/></a>"
      ]
    },
    {
      "cell_type": "code",
      "source": [
        "versiones_plone = [2.1, 2.5, 3.6, 4, 5, 6, 4]\n",
        "print (versiones_plone.index(4))\n"
      ],
      "metadata": {
        "id": "la5uutNi31JA",
        "outputId": "1839b100-6453-4fcd-d38e-08ffdcc4d709",
        "colab": {
          "base_uri": "https://localhost:8080/"
        }
      },
      "execution_count": 1,
      "outputs": [
        {
          "output_type": "stream",
          "name": "stdout",
          "text": [
            "3\n"
          ]
        }
      ]
    },
    {
      "cell_type": "code",
      "source": [
        "versiones_plone = [2.1, 2.5, 3.6, 4, 5, 6, 4]\n",
        "versiones_plone[2]\n"
      ],
      "metadata": {
        "id": "9jzKZioE4VrM",
        "outputId": "4f5b16eb-3784-45a4-a25f-01a21a73bf1f",
        "colab": {
          "base_uri": "https://localhost:8080/"
        }
      },
      "execution_count": 4,
      "outputs": [
        {
          "output_type": "execute_result",
          "data": {
            "text/plain": [
              "3.6"
            ]
          },
          "metadata": {},
          "execution_count": 4
        }
      ]
    },
    {
      "cell_type": "code",
      "source": [
        "print (versiones_plone.index(4,2))\n"
      ],
      "metadata": {
        "id": "XSRaE0_i48Pz",
        "outputId": "ec2dd6e0-3fbf-4d32-cba2-1267d3a0f121",
        "colab": {
          "base_uri": "https://localhost:8080/"
        }
      },
      "execution_count": 5,
      "outputs": [
        {
          "output_type": "stream",
          "name": "stdout",
          "text": [
            "3\n"
          ]
        }
      ]
    },
    {
      "cell_type": "code",
      "source": [
        " versiones_plone[3]"
      ],
      "metadata": {
        "id": "NLhfbzI85I0B",
        "outputId": "c2988794-61a9-45b2-9035-1c4a5a469731",
        "colab": {
          "base_uri": "https://localhost:8080/"
        }
      },
      "execution_count": 9,
      "outputs": [
        {
          "output_type": "execute_result",
          "data": {
            "text/plain": [
              "4"
            ]
          },
          "metadata": {},
          "execution_count": 9
        }
      ]
    },
    {
      "cell_type": "code",
      "source": [
        "print (versiones_plone.index(4,5))\n"
      ],
      "metadata": {
        "id": "8sszKmnY5jZS",
        "outputId": "d1158c73-d848-45be-b7ee-f6b7fd3a5485",
        "colab": {
          "base_uri": "https://localhost:8080/"
        }
      },
      "execution_count": 10,
      "outputs": [
        {
          "output_type": "stream",
          "name": "stdout",
          "text": [
            "6\n"
          ]
        }
      ]
    },
    {
      "cell_type": "code",
      "source": [
        "print (versiones_plone.index(6,2))\n"
      ],
      "metadata": {
        "id": "jmyB6VSh6aWD",
        "outputId": "e0ae6fe5-8673-4a1e-8c42-00151e668566",
        "colab": {
          "base_uri": "https://localhost:8080/"
        }
      },
      "execution_count": 11,
      "outputs": [
        {
          "output_type": "stream",
          "name": "stdout",
          "text": [
            "5\n"
          ]
        }
      ]
    },
    {
      "cell_type": "code",
      "source": [
        "print (versiones_plone.index(4,6))\n"
      ],
      "metadata": {
        "id": "J9FrHgvx68Vv",
        "outputId": "e1347d9f-ad0b-4085-86b5-651c3edbe722",
        "colab": {
          "base_uri": "https://localhost:8080/"
        }
      },
      "execution_count": 12,
      "outputs": [
        {
          "output_type": "stream",
          "name": "stdout",
          "text": [
            "6\n"
          ]
        }
      ]
    },
    {
      "cell_type": "code",
      "source": [
        "print (versiones_plone.index(6,1))\n"
      ],
      "metadata": {
        "id": "gVsLyr6x7GVI",
        "outputId": "a97725b5-5a22-42ba-fda5-3879e5021df9",
        "colab": {
          "base_uri": "https://localhost:8080/"
        }
      },
      "execution_count": 13,
      "outputs": [
        {
          "output_type": "stream",
          "name": "stdout",
          "text": [
            "5\n"
          ]
        }
      ]
    },
    {
      "cell_type": "code",
      "source": [
        "print (versiones_plone.index(3.6,2))\n"
      ],
      "metadata": {
        "id": "hHr1jfU17URu",
        "outputId": "3763aef5-8560-4b66-ff2c-5fe8281639dd",
        "colab": {
          "base_uri": "https://localhost:8080/"
        }
      },
      "execution_count": 15,
      "outputs": [
        {
          "output_type": "stream",
          "name": "stdout",
          "text": [
            "2\n"
          ]
        }
      ]
    },
    {
      "cell_type": "code",
      "source": [
        "versiones_plone = [2.1, 2.5, 3.6, 4, 5, 6, 4]\n",
        "print (versiones_plone.index(9))\n",
        "\n",
        "\n"
      ],
      "metadata": {
        "id": "U1YlAgdg7cQY",
        "outputId": "c621e242-75c4-479e-871d-a91c5752fbbb",
        "colab": {
          "base_uri": "https://localhost:8080/",
          "height": 227
        }
      },
      "execution_count": 20,
      "outputs": [
        {
          "output_type": "error",
          "ename": "ValueError",
          "evalue": "ignored",
          "traceback": [
            "\u001b[0;31m---------------------------------------------------------------------------\u001b[0m",
            "\u001b[0;31mValueError\u001b[0m                                Traceback (most recent call last)",
            "\u001b[0;32m<ipython-input-20-7adc99a35253>\u001b[0m in \u001b[0;36m<cell line: 2>\u001b[0;34m()\u001b[0m\n\u001b[1;32m      1\u001b[0m \u001b[0mversiones_plone\u001b[0m \u001b[0;34m=\u001b[0m \u001b[0;34m[\u001b[0m\u001b[0;36m2.1\u001b[0m\u001b[0;34m,\u001b[0m \u001b[0;36m2.5\u001b[0m\u001b[0;34m,\u001b[0m \u001b[0;36m3.6\u001b[0m\u001b[0;34m,\u001b[0m \u001b[0;36m4\u001b[0m\u001b[0;34m,\u001b[0m \u001b[0;36m5\u001b[0m\u001b[0;34m,\u001b[0m \u001b[0;36m6\u001b[0m\u001b[0;34m,\u001b[0m \u001b[0;36m4\u001b[0m\u001b[0;34m]\u001b[0m\u001b[0;34m\u001b[0m\u001b[0;34m\u001b[0m\u001b[0m\n\u001b[0;32m----> 2\u001b[0;31m \u001b[0mprint\u001b[0m \u001b[0;34m(\u001b[0m\u001b[0mversiones_plone\u001b[0m\u001b[0;34m.\u001b[0m\u001b[0mindex\u001b[0m\u001b[0;34m(\u001b[0m\u001b[0;36m9\u001b[0m\u001b[0;34m)\u001b[0m\u001b[0;34m)\u001b[0m\u001b[0;34m\u001b[0m\u001b[0;34m\u001b[0m\u001b[0m\n\u001b[0m\u001b[1;32m      3\u001b[0m \u001b[0;34m\u001b[0m\u001b[0m\n\u001b[1;32m      4\u001b[0m \u001b[0;34m\u001b[0m\u001b[0m\n",
            "\u001b[0;31mValueError\u001b[0m: 9 is not in list"
          ]
        }
      ]
    },
    {
      "cell_type": "code",
      "source": [
        "versiones_plone = [2.1, 2.5, 3.6, 4, 5, 6]\n",
        "print (versiones_plone)\n",
        "\n"
      ],
      "metadata": {
        "id": "qnvtEIvP8Lez",
        "outputId": "544013de-52f4-4247-fadc-aee315864eb9",
        "colab": {
          "base_uri": "https://localhost:8080/"
        }
      },
      "execution_count": 26,
      "outputs": [
        {
          "output_type": "stream",
          "name": "stdout",
          "text": [
            "[2.1, 2.5, 3.6, 4, 5, 6]\n"
          ]
        }
      ]
    },
    {
      "cell_type": "code",
      "source": [
        "versiones_plone.insert(2, 3.7)\n",
        "print (versiones_plone)"
      ],
      "metadata": {
        "id": "dvMaWZqz9gXZ",
        "outputId": "7580efc6-c96c-4a1b-ae28-18835a099762",
        "colab": {
          "base_uri": "https://localhost:8080/"
        }
      },
      "execution_count": 23,
      "outputs": [
        {
          "output_type": "stream",
          "name": "stdout",
          "text": [
            "[2.1, 2.5, 3.7, 3.6, 4, 5]\n"
          ]
        }
      ]
    },
    {
      "cell_type": "code",
      "source": [
        "versiones_plone = [2.1, 2.5, 3.6, 4, 5, 6]\n",
        "print (versiones_plone.pop())"
      ],
      "metadata": {
        "id": "eVCoZVU783jX",
        "outputId": "753ae83e-5050-4955-e994-d25edbd09f5c",
        "colab": {
          "base_uri": "https://localhost:8080/"
        }
      },
      "execution_count": 22,
      "outputs": [
        {
          "output_type": "stream",
          "name": "stdout",
          "text": [
            "6\n"
          ]
        }
      ]
    },
    {
      "cell_type": "code",
      "source": [
        "print (versiones_plone)"
      ],
      "metadata": {
        "id": "KEvt4ln7-9Mr",
        "outputId": "a7e1f079-bec6-49ea-92f4-fe4755719fde",
        "colab": {
          "base_uri": "https://localhost:8080/"
        }
      },
      "execution_count": 27,
      "outputs": [
        {
          "output_type": "stream",
          "name": "stdout",
          "text": [
            "[2.1, 2.5, 3.6, 4, 5, 6]\n"
          ]
        }
      ]
    },
    {
      "cell_type": "code",
      "source": [
        "versiones_plone = [2.1, 2.5, 3.6, 4, 5, 6]\n",
        "print (versiones_plone.pop(2))"
      ],
      "metadata": {
        "id": "9xjfTXhqAOXm",
        "outputId": "215f87d3-a853-4108-997a-835e202b2de5",
        "colab": {
          "base_uri": "https://localhost:8080/"
        }
      },
      "execution_count": 28,
      "outputs": [
        {
          "output_type": "stream",
          "name": "stdout",
          "text": [
            "3.6\n"
          ]
        }
      ]
    },
    {
      "cell_type": "code",
      "source": [
        "versiones_plone = [2.1, 2.5, 3.6, 4, 5, 6]\n",
        "print (versiones_plone.pop(+1))"
      ],
      "metadata": {
        "id": "KGIV0PwDApn0",
        "outputId": "163c3d0b-0a75-40cf-90fe-f7f69a56a94c",
        "colab": {
          "base_uri": "https://localhost:8080/"
        }
      },
      "execution_count": 29,
      "outputs": [
        {
          "output_type": "stream",
          "name": "stdout",
          "text": [
            "2.5\n"
          ]
        }
      ]
    },
    {
      "cell_type": "code",
      "source": [
        "versiones_plone = [2.1, 2.5, 3.6, 4, 5, 6]\n",
        "print (versiones_plone)"
      ],
      "metadata": {
        "id": "AwHovx1nBDXj",
        "outputId": "4eaa5a3d-4c92-4de6-d691-2fa46b2c46c8",
        "colab": {
          "base_uri": "https://localhost:8080/"
        }
      },
      "execution_count": 30,
      "outputs": [
        {
          "output_type": "stream",
          "name": "stdout",
          "text": [
            "[2.1, 2.5, 3.6, 4, 5, 6]\n"
          ]
        }
      ]
    },
    {
      "cell_type": "code",
      "source": [
        "(versiones_plone.remove(2.5))"
      ],
      "metadata": {
        "id": "nD9kr3ZJBJGo"
      },
      "execution_count": 31,
      "outputs": []
    },
    {
      "cell_type": "code",
      "source": [
        "\n",
        "print (versiones_plone)"
      ],
      "metadata": {
        "id": "4UJIwWIGBSjO",
        "outputId": "ba7a495a-1c42-4294-bff4-99927c98358e",
        "colab": {
          "base_uri": "https://localhost:8080/"
        }
      },
      "execution_count": 32,
      "outputs": [
        {
          "output_type": "stream",
          "name": "stdout",
          "text": [
            "[2.1, 3.6, 4, 5, 6]\n"
          ]
        }
      ]
    },
    {
      "cell_type": "code",
      "source": [
        "(versiones_plone.reverse())\n",
        "print (versiones_plone)"
      ],
      "metadata": {
        "id": "jdPGGnbeBbkU",
        "outputId": "55667c92-d684-4ed4-dc4e-84945d9720cb",
        "colab": {
          "base_uri": "https://localhost:8080/"
        }
      },
      "execution_count": 33,
      "outputs": [
        {
          "output_type": "stream",
          "name": "stdout",
          "text": [
            "[6, 5, 4, 3.6, 2.1]\n"
          ]
        }
      ]
    },
    {
      "cell_type": "code",
      "source": [
        "versiones_plone = [4, 2.5, 5, 3.6, 2.1, 6]\n",
        "print (versiones_plone)\n",
        "(versiones_plone.sort())\n",
        "print (versiones_plone)\n",
        "(versiones_plone.sort(reverse=True))\n",
        "print (versiones_plone)"
      ],
      "metadata": {
        "id": "yKLNcpc0CNlp",
        "outputId": "fbc8f2b3-5c1b-48c0-8352-8eddf985377d",
        "colab": {
          "base_uri": "https://localhost:8080/"
        }
      },
      "execution_count": 37,
      "outputs": [
        {
          "output_type": "stream",
          "name": "stdout",
          "text": [
            "[4, 2.5, 5, 3.6, 2.1, 6]\n",
            "[2.1, 2.5, 3.6, 4, 5, 6]\n",
            "[6, 5, 4, 3.6, 2.5, 2.1]\n"
          ]
        }
      ]
    },
    {
      "cell_type": "code",
      "source": [
        "versiones_plone = ['a,g,d,j,e,b,j']\n",
        "print (versiones_plone)"
      ],
      "metadata": {
        "id": "0xwotNOKDBIx",
        "outputId": "ce7db21c-872e-4a88-882b-a98f50c0d9ce",
        "colab": {
          "base_uri": "https://localhost:8080/"
        }
      },
      "execution_count": 39,
      "outputs": [
        {
          "output_type": "stream",
          "name": "stdout",
          "text": [
            "['a,g,d,j,e,b,j']\n"
          ]
        }
      ]
    },
    {
      "cell_type": "code",
      "source": [
        "vocales = 'aeiou'\n",
        "for letra in 'epinmedio gonzales el ahorcado':\n",
        "  if letra in vocales:\n",
        "    print(letra,)"
      ],
      "metadata": {
        "id": "Fhevh5mADPYd",
        "outputId": "e7d44a26-3f2e-4087-a907-a17eb1149d39",
        "colab": {
          "base_uri": "https://localhost:8080/"
        }
      },
      "execution_count": 48,
      "outputs": [
        {
          "output_type": "stream",
          "name": "stdout",
          "text": [
            "e\n",
            "i\n",
            "e\n",
            "i\n",
            "o\n",
            "o\n",
            "a\n",
            "e\n",
            "e\n",
            "a\n",
            "o\n",
            "a\n",
            "o\n"
          ]
        }
      ]
    },
    {
      "cell_type": "code",
      "source": [
        "mensaje = \"hola, como estas tu?\"\n",
        "mensaje.split()\n",
        "for palabra in mensaje.split():\n",
        "    print (palabra)"
      ],
      "metadata": {
        "id": "IcKHKyBOHSB2",
        "outputId": "df6c0661-124b-4e2c-e8b1-e3dd4f099f8d",
        "colab": {
          "base_uri": "https://localhost:8080/"
        }
      },
      "execution_count": 53,
      "outputs": [
        {
          "output_type": "stream",
          "name": "stdout",
          "text": [
            "hola,\n",
            "como\n",
            "estas\n",
            "tu?\n"
          ]
        }
      ]
    },
    {
      "cell_type": "code",
      "source": [
        "preguntas = ['nombre', 'objetivo', 'sistema operativo']\n",
        "respuestas = ['leonardo', 'aprende python y plone', 'linux']\n",
        "for pregunta, respuesta in zip(preguntas, respuestas):\n",
        "    print ('¿cual es tu {0}?, la respuesta es: {1}.'.format(pregunta,respuesta))"
      ],
      "metadata": {
        "id": "ztTBVgWoIng1",
        "outputId": "8e651526-2d15-44c0-97ac-dee1b6656c71",
        "colab": {
          "base_uri": "https://localhost:8080/"
        }
      },
      "execution_count": 55,
      "outputs": [
        {
          "output_type": "stream",
          "name": "stdout",
          "text": [
            "¿cual es tu nombre?, la respuesta es: leonardo.\n",
            "¿cual es tu objetivo?, la respuesta es: aprende python y plone.\n",
            "¿cual es tu sistema operativo?, la respuesta es: linux.\n"
          ]
        }
      ]
    },
    {
      "cell_type": "code",
      "source": [],
      "metadata": {
        "id": "tFpAKleyKdhW"
      },
      "execution_count": null,
      "outputs": []
    }
  ],
  "metadata": {
    "colab": {
      "name": "Te damos la bienvenida a Colaboratory",
      "toc_visible": true,
      "provenance": [],
      "include_colab_link": true
    },
    "kernelspec": {
      "display_name": "Python 3",
      "name": "python3"
    }
  },
  "nbformat": 4,
  "nbformat_minor": 0
}