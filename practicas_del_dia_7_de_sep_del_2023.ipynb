{
  "nbformat": 4,
  "nbformat_minor": 0,
  "metadata": {
    "colab": {
      "provenance": [],
      "authorship_tag": "ABX9TyPvKVT7Bn42QSLcCDjonM5w",
      "include_colab_link": true
    },
    "kernelspec": {
      "name": "python3",
      "display_name": "Python 3"
    },
    "language_info": {
      "name": "python"
    }
  },
  "cells": [
    {
      "cell_type": "markdown",
      "metadata": {
        "id": "view-in-github",
        "colab_type": "text"
      },
      "source": [
        "<a href=\"https://colab.research.google.com/github/stripmau/estructura-de-datos/blob/main/practicas_del_dia_7_de_sep_del_2023.ipynb\" target=\"_parent\"><img src=\"https://colab.research.google.com/assets/colab-badge.svg\" alt=\"Open In Colab\"/></a>"
      ]
    },
    {
      "cell_type": "code",
      "source": [
        "class Pila:\n",
        "  def __init__(self):\n",
        "    self.items=[]\n",
        "    def apilar(self, x):\n",
        "      self.items.append(x)\n",
        "      def desapilar(self):\n",
        "        try:\n",
        "          return self.items.pop()\n",
        "        except IndexError:\n",
        "          raise ValueError(\"La pila está vacía\")\n",
        "\n",
        "        def es_vacia(self):\n",
        "          return self.items == []\n",
        "          from clasePila import Pila\n",
        "          p = Pila()\n",
        "          p.es_vacia()\n",
        "\n",
        "          True\n",
        "          p.apilar(1)\n",
        "          p.es_vacia()\n",
        "          False\n",
        "          p.apilar(5)\n",
        "          p.apilar(\"+\")\n",
        "          p.apilar(22)\n",
        "          p.desapilar()\n",
        "          def imprimir_pila(pila):\n",
        "            for item in self.items:\n",
        "                print(str(item))\n"
      ],
      "metadata": {
        "id": "YkeYUQlYRM8B"
      },
      "execution_count": 42,
      "outputs": []
    },
    {
      "cell_type": "code",
      "source": [
        "from clasePila import Pila\n",
        "\n",
        "def calculadora_polaca(elementos):\n",
        "    p = Pila()\n",
        "    for elemento in elementos:\n",
        "        print (\"DEBUG:\"), elemento\n",
        "\n",
        "        try:\n",
        "            numero = float(elemento)\n",
        "            p.apilar(numero)\n",
        "            print (\"DEBUG: apila \"), numero\n",
        "\n",
        "        except ValueError:\n",
        "\n",
        "            if elemento not in \"+-*/ %\" or len(elemento) != 1:\n",
        "                raise ValueError(\"Operando inválido\")\n",
        "\n",
        "            try:\n",
        "                a1 = p.desapilar()\n",
        "                print (\"DEBUG: desapila \"), a1\n",
        "                a2 = p.desapilar()\n",
        "                print (\"DEBUG: desapila \"), a2\n",
        "\n",
        "            except ValueError:\n",
        "                print (\"DEBUG: error pila faltan operandos\")\n",
        "                raise ValueError(\"Faltan operandos\")\n",
        "\n",
        "            if elemento == \"+\":\n",
        "                resultado = a2 + a1\n",
        "            elif elemento == \"-\":\n",
        "                resultado = a2 - a1\n",
        "            elif elemento == \"*\":\n",
        "                resultado = a2 * a1\n",
        "            elif elemento == \"/\":\n",
        "                resultado = a2 / a1\n",
        "            elif elemento == \" %\":\n",
        "                resultado = a2 % a1\n",
        "            print (\"DEBUG: apila \"), resultado\n",
        "            p.apilar(resultado)\n",
        "\n",
        "    res = p.desapilar()\n",
        "    if p.esPilaVacia():\n",
        "        return res\n",
        "    else:\n",
        "        print (\"DEBUG: error pila sobran operandos\")\n",
        "        raise ValueError(\"Sobran operandos\")\n",
        "\n",
        "\n",
        "\n"
      ],
      "metadata": {
        "colab": {
          "base_uri": "https://localhost:8080/",
          "height": 383
        },
        "id": "cQbivZrEZr5A",
        "outputId": "59287aac-3bd8-4c15-89b5-8e18c1bb0d95"
      },
      "execution_count": 44,
      "outputs": [
        {
          "output_type": "error",
          "ename": "ModuleNotFoundError",
          "evalue": "ignored",
          "traceback": [
            "\u001b[0;31m---------------------------------------------------------------------------\u001b[0m",
            "\u001b[0;31mModuleNotFoundError\u001b[0m                       Traceback (most recent call last)",
            "\u001b[0;32m<ipython-input-44-afd139bed137>\u001b[0m in \u001b[0;36m<cell line: 1>\u001b[0;34m()\u001b[0m\n\u001b[0;32m----> 1\u001b[0;31m \u001b[0;32mfrom\u001b[0m \u001b[0mclasePila\u001b[0m \u001b[0;32mimport\u001b[0m \u001b[0mPila\u001b[0m\u001b[0;34m\u001b[0m\u001b[0;34m\u001b[0m\u001b[0m\n\u001b[0m\u001b[1;32m      2\u001b[0m \u001b[0;34m\u001b[0m\u001b[0m\n\u001b[1;32m      3\u001b[0m \u001b[0;32mdef\u001b[0m \u001b[0mcalculadora_polaca\u001b[0m\u001b[0;34m(\u001b[0m\u001b[0melementos\u001b[0m\u001b[0;34m)\u001b[0m\u001b[0;34m:\u001b[0m\u001b[0;34m\u001b[0m\u001b[0;34m\u001b[0m\u001b[0m\n\u001b[1;32m      4\u001b[0m     \u001b[0mp\u001b[0m \u001b[0;34m=\u001b[0m \u001b[0mPila\u001b[0m\u001b[0;34m(\u001b[0m\u001b[0;34m)\u001b[0m\u001b[0;34m\u001b[0m\u001b[0;34m\u001b[0m\u001b[0m\n\u001b[1;32m      5\u001b[0m     \u001b[0;32mfor\u001b[0m \u001b[0melemento\u001b[0m \u001b[0;32min\u001b[0m \u001b[0melementos\u001b[0m\u001b[0;34m:\u001b[0m\u001b[0;34m\u001b[0m\u001b[0;34m\u001b[0m\u001b[0m\n",
            "\u001b[0;31mModuleNotFoundError\u001b[0m: No module named 'clasePila'",
            "",
            "\u001b[0;31m---------------------------------------------------------------------------\u001b[0;32m\nNOTE: If your import is failing due to a missing package, you can\nmanually install dependencies using either !pip or !apt.\n\nTo view examples of installing some common dependencies, click the\n\"Open Examples\" button below.\n\u001b[0;31m---------------------------------------------------------------------------\u001b[0m\n"
          ],
          "errorDetails": {
            "actions": [
              {
                "action": "open_url",
                "actionText": "Open Examples",
                "url": "/notebooks/snippets/importing_libraries.ipynb"
              }
            ]
          }
        }
      ]
    }
  ]
}