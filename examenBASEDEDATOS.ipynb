{
  "nbformat": 4,
  "nbformat_minor": 0,
  "metadata": {
    "colab": {
      "provenance": [],
      "authorship_tag": "ABX9TyMqAKVHhpHtd9Njfkv5/W1a",
      "include_colab_link": true
    },
    "kernelspec": {
      "name": "python3",
      "display_name": "Python 3"
    },
    "language_info": {
      "name": "python"
    }
  },
  "cells": [
    {
      "cell_type": "markdown",
      "metadata": {
        "id": "view-in-github",
        "colab_type": "text"
      },
      "source": [
        "<a href=\"https://colab.research.google.com/github/stripmau/estructura-de-datos/blob/main/examenBASEDEDATOS.ipynb\" target=\"_parent\"><img src=\"https://colab.research.google.com/assets/colab-badge.svg\" alt=\"Open In Colab\"/></a>"
      ]
    },
    {
      "cell_type": "code",
      "execution_count": 1,
      "metadata": {
        "colab": {
          "base_uri": "https://localhost:8080/"
        },
        "id": "_7HTJ9SlIeKy",
        "outputId": "2994439d-5fd2-4bca-9662-2633e5bd0ae3"
      },
      "outputs": [
        {
          "output_type": "stream",
          "name": "stdout",
          "text": [
            "Fila Ascendente:\n",
            "[1, 2, 3, 4]\n",
            "[5, 6, 7, 8]\n",
            "[9, 10, 11, 12]\n",
            "\n",
            "Fila Descendente:\n",
            "[12, 11, 10, 9]\n",
            "[8, 7, 6, 5]\n",
            "[4, 3, 2, 1]\n",
            "\n",
            "Fila en Espiral:\n",
            "[1, 2, 3, 4]\n",
            "[10, 11, 12, 5]\n",
            "[9, 8, 7, 6]\n"
          ]
        }
      ],
      "source": [
        "def llenar_matriz_ascendente():\n",
        "    matriz = [[0] * 4 for _ in range(3)]\n",
        "    valor = 1\n",
        "    for i in range(3):\n",
        "        for j in range(4):\n",
        "            matriz[i][j] = valor\n",
        "            valor += 1\n",
        "    return matriz\n",
        "\n",
        "def llenar_matriz_descendente():\n",
        "    matriz = [[0] * 4 for _ in range(3)]\n",
        "    valor = 12\n",
        "    for i in range(3):\n",
        "        for j in range(4):\n",
        "            matriz[i][j] = valor\n",
        "            valor -= 1\n",
        "    return matriz\n",
        "\n",
        "def llenar_matriz_espiral():\n",
        "    matriz = [[0] * 4 for _ in range(3)]\n",
        "    valor = 1\n",
        "    inicio_fila, inicio_columna = 0, 0\n",
        "    filas, columnas = 3, 4\n",
        "\n",
        "    while inicio_fila < filas and inicio_columna < columnas:\n",
        "        for i in range(inicio_columna, columnas):\n",
        "            matriz[inicio_fila][i] = valor\n",
        "            valor += 1\n",
        "        inicio_fila += 1\n",
        "\n",
        "        for i in range(inicio_fila, filas):\n",
        "            matriz[i][columnas - 1] = valor\n",
        "            valor += 1\n",
        "        columnas -= 1\n",
        "\n",
        "        if inicio_fila < filas:\n",
        "            for i in range(columnas - 1, inicio_columna - 1, -1):\n",
        "                matriz[filas - 1][i] = valor\n",
        "                valor += 1\n",
        "            filas -= 1\n",
        "\n",
        "        if inicio_columna < columnas:\n",
        "            for i in range(filas - 1, inicio_fila - 1, -1):\n",
        "                matriz[i][inicio_columna] = valor\n",
        "                valor += 1\n",
        "            inicio_columna += 1\n",
        "\n",
        "    return matriz\n",
        "\n",
        "fila_ascendente = llenar_matriz_ascendente()\n",
        "fila_descendente = llenar_matriz_descendente()\n",
        "fila_espiral = llenar_matriz_espiral()\n",
        "\n",
        "print(\"Fila Ascendente:\")\n",
        "for fila in fila_ascendente:\n",
        "    print(fila)\n",
        "\n",
        "print(\"\\nFila Descendente:\")\n",
        "for fila in fila_descendente:\n",
        "    print(fila)\n",
        "\n",
        "print(\"\\nFila en Espiral:\")\n",
        "for fila in fila_espiral:\n",
        "    print(fila)"
      ]
    },
    {
      "cell_type": "markdown",
      "source": [
        "EXAMEN DEL JUEGO"
      ],
      "metadata": {
        "id": "ru27sZFFIigY"
      }
    },
    {
      "cell_type": "code",
      "source": [
        "import random\n",
        "\n",
        "class Adivinalosnumeros:\n",
        "    def __init__(self):\n",
        "        self.numeros_secretos = [random.randint(1, 10) for _ in range(2)]\n",
        "        self.intentos = 0\n",
        "        self.max_intentos = 10\n",
        "        self.ganador = False\n",
        "\n",
        "    def mostrar_tablero(self, seleccion_usuario):\n",
        "        for i in range(2):\n",
        "            if seleccion_usuario[i] == self.numeros_secretos[i]:\n",
        "                print(\"Casilla {}: {} (CORRECTO)\".format(i + 1, seleccion_usuario[i]))\n",
        "            else:\n",
        "                print(\"Casilla {}: {}\".format(i + 1, seleccion_usuario[i]))\n",
        "\n",
        "    def jugar(self):\n",
        "        print(\"¡Bienvenido al juego de adivina los números!\")\n",
        "        print(\"Tienes 10 intentos para adivinar tres números del 1 al 10 en las casillas.\")\n",
        "        self.jugar_recursivo()\n",
        "\n",
        "    def jugar_recursivo(self):\n",
        "        if self.intentos >= self.max_intentos:\n",
        "            print(\"\\nHas agotado tus 10 intentos. Los números secretos eran: {} | {}\".format(self.numeros_secretos[0], self.numeros_secretos[1]))\n",
        "            print(\"¡Perdiste por malo!\")\n",
        "            return\n",
        "        else:\n",
        "            print(\"\\nIntento {} de {}\".format(self.intentos + 1, self.max_intentos))\n",
        "            seleccion_usuario = []\n",
        "\n",
        "            for i in range(2):\n",
        "                numero = int (input(\"Elige un número entre 1 y 10 para la casilla {}: \".format(i + 1)))\n",
        "                seleccion_usuario.append(numero)\n",
        "\n",
        "            self.mostrar_tablero(seleccion_usuario)\n",
        "\n",
        "            if seleccion_usuario == self.numeros_secretos:\n",
        "                print(\"¡Felicidades! Has adivinado todos los números correctamente.\")\n",
        "                self.ganador = True\n",
        "            else:\n",
        "                print(\"Sigue intentando...\")\n",
        "                self.intentos += 1\n",
        "                self.jugar_recursivo()\n",
        "\n",
        "if __name__ == \"__main__\":\n",
        "    juego = Adivinalosnumeros()\n",
        "    juego.jugar()\n",
        "7"
      ],
      "metadata": {
        "colab": {
          "base_uri": "https://localhost:8080/"
        },
        "id": "0_VZ3DZUImSM",
        "outputId": "faecb637-870e-445c-bdbc-6d611396457a"
      },
      "execution_count": 3,
      "outputs": [
        {
          "output_type": "stream",
          "name": "stdout",
          "text": [
            "¡Bienvenido al juego de adivina los números!\n",
            "Tienes 10 intentos para adivinar tres números del 1 al 10 en las casillas.\n",
            "\n",
            "Intento 1 de 10\n",
            "Elige un número entre 1 y 10 para la casilla 1: 5\n",
            "Elige un número entre 1 y 10 para la casilla 2: 8\n",
            "Casilla 1: 5\n",
            "Casilla 2: 8 (CORRECTO)\n",
            "Sigue intentando...\n",
            "\n",
            "Intento 2 de 10\n",
            "Elige un número entre 1 y 10 para la casilla 1: 8\n",
            "Elige un número entre 1 y 10 para la casilla 2: 3\n",
            "Casilla 1: 8\n",
            "Casilla 2: 3\n",
            "Sigue intentando...\n",
            "\n",
            "Intento 3 de 10\n",
            "Elige un número entre 1 y 10 para la casilla 1: 6\n",
            "Elige un número entre 1 y 10 para la casilla 2: 1\n",
            "Casilla 1: 6 (CORRECTO)\n",
            "Casilla 2: 1\n",
            "Sigue intentando...\n",
            "\n",
            "Intento 4 de 10\n",
            "Elige un número entre 1 y 10 para la casilla 1: 8\n",
            "Elige un número entre 1 y 10 para la casilla 2: 5\n",
            "Casilla 1: 8\n",
            "Casilla 2: 5\n",
            "Sigue intentando...\n",
            "\n",
            "Intento 5 de 10\n",
            "Elige un número entre 1 y 10 para la casilla 1: 4\n",
            "Elige un número entre 1 y 10 para la casilla 2: 6\n",
            "Casilla 1: 4\n",
            "Casilla 2: 6\n",
            "Sigue intentando...\n",
            "\n",
            "Intento 6 de 10\n",
            "Elige un número entre 1 y 10 para la casilla 1: 6\n",
            "Elige un número entre 1 y 10 para la casilla 2: 4\n",
            "Casilla 1: 6 (CORRECTO)\n",
            "Casilla 2: 4\n",
            "Sigue intentando...\n",
            "\n",
            "Intento 7 de 10\n",
            "Elige un número entre 1 y 10 para la casilla 1: 2\n",
            "Elige un número entre 1 y 10 para la casilla 2: 1\n",
            "Casilla 1: 2\n",
            "Casilla 2: 1\n",
            "Sigue intentando...\n",
            "\n",
            "Intento 8 de 10\n",
            "Elige un número entre 1 y 10 para la casilla 1: 4\n",
            "Elige un número entre 1 y 10 para la casilla 2: 9\n",
            "Casilla 1: 4\n",
            "Casilla 2: 9\n",
            "Sigue intentando...\n",
            "\n",
            "Intento 9 de 10\n",
            "Elige un número entre 1 y 10 para la casilla 1: 3\n",
            "Elige un número entre 1 y 10 para la casilla 2: 8\n",
            "Casilla 1: 3\n",
            "Casilla 2: 8 (CORRECTO)\n",
            "Sigue intentando...\n",
            "\n",
            "Intento 10 de 10\n",
            "Elige un número entre 1 y 10 para la casilla 1: 1\n",
            "Elige un número entre 1 y 10 para la casilla 2: 8\n",
            "Casilla 1: 1\n",
            "Casilla 2: 8 (CORRECTO)\n",
            "Sigue intentando...\n",
            "\n",
            "Has agotado tus 10 intentos. Los números secretos eran: 6 | 8\n",
            "¡Perdiste por malo!\n"
          ]
        },
        {
          "output_type": "execute_result",
          "data": {
            "text/plain": [
              "7"
            ]
          },
          "metadata": {},
          "execution_count": 3
        }
      ]
    }
  ]
}