{
  "nbformat": 4,
  "nbformat_minor": 0,
  "metadata": {
    "colab": {
      "provenance": [],
      "authorship_tag": "ABX9TyPulUnRcFkGnQ78GyZ9aDf+",
      "include_colab_link": true
    },
    "kernelspec": {
      "name": "python3",
      "display_name": "Python 3"
    },
    "language_info": {
      "name": "python"
    }
  },
  "cells": [
    {
      "cell_type": "markdown",
      "metadata": {
        "id": "view-in-github",
        "colab_type": "text"
      },
      "source": [
        "<a href=\"https://colab.research.google.com/github/stripmau/estructura-de-datos/blob/main/juegos%2015-09.ipynb\" target=\"_parent\"><img src=\"https://colab.research.google.com/assets/colab-badge.svg\" alt=\"Open In Colab\"/></a>"
      ]
    },
    {
      "cell_type": "markdown",
      "source": [],
      "metadata": {
        "id": "lzuCawhjho-E"
      }
    },
    {
      "cell_type": "code",
      "source": [
        "juego adivina el numero"
      ],
      "metadata": {
        "id": "Ms1IdxYkhpne"
      },
      "execution_count": null,
      "outputs": []
    },
    {
      "cell_type": "code",
      "execution_count": 5,
      "metadata": {
        "colab": {
          "base_uri": "https://localhost:8080/"
        },
        "id": "3OKxv7r8TWxD",
        "outputId": "dc8547ad-73f0-43d7-a8d8-7d3448107f47"
      },
      "outputs": [
        {
          "output_type": "stream",
          "name": "stdout",
          "text": [
            "¡Bienvenido a Encuentra el número!\n",
            "Tienes 10 intentos para adivinar el número secreto, que está entre 1 y 1000.\n",
            "Intento 1: Ingresa un número: 65\n",
            "El número secreto es mayor que 65. Te quedan 9 intentos.\n",
            "Intento 2: Ingresa un número: 300\n",
            "El número secreto es menor que 300. Te quedan 8 intentos.\n",
            "Intento 3: Ingresa un número: 150\n",
            "El número secreto es mayor que 150. Te quedan 7 intentos.\n",
            "Intento 4: Ingresa un número: 200\n",
            "El número secreto es mayor que 200. Te quedan 6 intentos.\n",
            "Intento 5: Ingresa un número: 250\n",
            "El número secreto es mayor que 250. Te quedan 5 intentos.\n",
            "Intento 6: Ingresa un número: 286\n",
            "El número secreto es menor que 286. Te quedan 4 intentos.\n",
            "Intento 7: Ingresa un número: 270\n",
            "El número secreto es menor que 270. Te quedan 3 intentos.\n",
            "Intento 8: Ingresa un número: 260\n",
            "El número secreto es mayor que 260. Te quedan 2 intentos.\n",
            "Intento 9: Ingresa un número: 265\n",
            "El número secreto es mayor que 265. Te quedan 1 intentos.\n",
            "Intento 10: Ingresa un número: 268\n",
            "El número secreto es mayor que 268. Te quedan 0 intentos.\n",
            "Has agotado tus 10 intentos. El número secreto era 269.\n"
          ]
        }
      ],
      "source": [
        "import random\n",
        "\n",
        "class EncuentraElNumero:\n",
        "    def __init__(self):\n",
        "        self.numero_secreto = random.randint(1, 1000)\n",
        "        self.intentos = 0\n",
        "        self.max_intentos = 10\n",
        "\n",
        "    def jugar(self):\n",
        "        print(\"¡Bienvenido a Encuentra el número!\")\n",
        "        print(\"Tienes 10 intentos para adivinar el número secreto, que está entre 1 y 1000.\")\n",
        "\n",
        "        while self.intentos < self.max_intentos:\n",
        "            intento = int(input(\"Intento {}: Ingresa un número: \".format(self.intentos + 1)))\n",
        "\n",
        "            if intento == self.numero_secreto:\n",
        "                print(\"¡Felicidades! Has adivinado el número secreto, que era {}.\".format(self.numero_secreto))\n",
        "                break\n",
        "            elif intento < self.numero_secreto:\n",
        "                print(\"El número secreto es mayor que {}. Te quedan {} intentos.\".format(intento, self.max_intentos - self.intentos - 1))\n",
        "            else:\n",
        "                print(\"El número secreto es menor que {}. Te quedan {} intentos.\".format(intento, self.max_intentos - self.intentos - 1))\n",
        "\n",
        "            self.intentos += 1\n",
        "\n",
        "        if self.intentos == self.max_intentos:\n",
        "            print(\"Has agotado tus 10 intentos. El número secreto era {}.\".format(self.numero_secreto))\n",
        "\n",
        "if __name__ == \"__main__\":\n",
        "    juego = EncuentraElNumero()\n",
        "    juego.jugar()\n"
      ]
    },
    {
      "cell_type": "markdown",
      "source": [
        "juego adivina los numeros del arreglo"
      ],
      "metadata": {
        "id": "kLtTvBU5Unsc"
      }
    },
    {
      "cell_type": "code",
      "source": [
        "import random\n",
        "\n",
        "class Adivinalosnumeros:\n",
        "    def __init__(self):\n",
        "        self.numeros_secretos = [random.randint(1, 10) for _ in range(3)]\n",
        "        self.intentos = 0\n",
        "        self.max_intentos = 10\n",
        "        self.ganador = False\n",
        "\n",
        "    def mostrar_tablero(self, seleccion_usuario):\n",
        "        for i in range(3):\n",
        "            if seleccion_usuario[i] == self.numeros_secretos[i]:\n",
        "                print(\"Casilla {}: {} (CORRECTO)\".format(i + 1, seleccion_usuario[i]))\n",
        "            else:\n",
        "                print(\"Casilla {}: {}\".format(i + 1, seleccion_usuario[i]))\n",
        "\n",
        "    def jugar(self):\n",
        "        print(\"¡Bienvenido al juego de adivina los números!\")\n",
        "        print(\"Tienes 10 intentos para adivinar tres números del 1 al 10 en las casillas.\")\n",
        "\n",
        "        while self.intentos < self.max_intentos:\n",
        "            print(\"\\nIntento {} de {}\".format(self.intentos + 1, self.max_intentos))\n",
        "            seleccion_usuario = []\n",
        "\n",
        "            for i in range(3):\n",
        "                numero = int(input(\"Elige un número entre 1 y 10 para la casilla {}: \".format(i + 1)))\n",
        "                seleccion_usuario.append(numero)\n",
        "\n",
        "            self.mostrar_tablero(seleccion_usuario)\n",
        "\n",
        "            if seleccion_usuario == self.numeros_secretos:\n",
        "                print(\"¡Felicidades! Has adivinado todos los números correctamente.\")\n",
        "                self.ganador = True\n",
        "                break\n",
        "            else:\n",
        "                print(\"Sigue intentando...\")\n",
        "\n",
        "            self.intentos += 1\n",
        "\n",
        "        if self.intentos == self.max_intentos and not self.ganador:\n",
        "            print(\"\\nHas agotado tus 10 intentos. Los números secretos eran: {} | {} | {}\".format(self.numeros_secretos[0], self.numeros_secretos[1], self.numeros_secretos[2]))\n",
        "            print(\"¡Perdiste por malo!\")\n",
        "\n",
        "if __name__ == \"__main__\":\n",
        "    juego = Adivinalosnumeros()\n",
        "    juego.jugar()"
      ],
      "metadata": {
        "colab": {
          "base_uri": "https://localhost:8080/"
        },
        "id": "A-0XcenwUlyi",
        "outputId": "c4449398-8274-4a35-f8e6-50e0a3d7dd75"
      },
      "execution_count": 2,
      "outputs": [
        {
          "output_type": "stream",
          "name": "stdout",
          "text": [
            "¡Bienvenido al juego de adivina los números!\n",
            "Tienes 10 intentos para adivinar tres números del 1 al 10 en las casillas.\n",
            "\n",
            "Intento 1 de 10\n",
            "Elige un número entre 1 y 10 para la casilla 1: 6\n",
            "Elige un número entre 1 y 10 para la casilla 2: 3\n",
            "Elige un número entre 1 y 10 para la casilla 3: 7\n",
            "Casilla 1: 6\n",
            "Casilla 2: 3\n",
            "Casilla 3: 7\n",
            "Sigue intentando...\n",
            "\n",
            "Intento 2 de 10\n",
            "Elige un número entre 1 y 10 para la casilla 1: 3\n",
            "Elige un número entre 1 y 10 para la casilla 2: 9\n",
            "Elige un número entre 1 y 10 para la casilla 3: 1\n",
            "Casilla 1: 3\n",
            "Casilla 2: 9\n",
            "Casilla 3: 1\n",
            "Sigue intentando...\n",
            "\n",
            "Intento 3 de 10\n",
            "Elige un número entre 1 y 10 para la casilla 1: 8\n",
            "Elige un número entre 1 y 10 para la casilla 2: 5\n",
            "Elige un número entre 1 y 10 para la casilla 3: 3\n",
            "Casilla 1: 8\n",
            "Casilla 2: 5\n",
            "Casilla 3: 3 (CORRECTO)\n",
            "Sigue intentando...\n",
            "\n",
            "Intento 4 de 10\n",
            "Elige un número entre 1 y 10 para la casilla 1: 5\n",
            "Elige un número entre 1 y 10 para la casilla 2: 2\n",
            "Elige un número entre 1 y 10 para la casilla 3: 3\n",
            "Casilla 1: 5\n",
            "Casilla 2: 2\n",
            "Casilla 3: 3 (CORRECTO)\n",
            "Sigue intentando...\n",
            "\n",
            "Intento 5 de 10\n",
            "Elige un número entre 1 y 10 para la casilla 1: 4\n",
            "Elige un número entre 1 y 10 para la casilla 2: 1\n",
            "Elige un número entre 1 y 10 para la casilla 3: 3\n",
            "Casilla 1: 4\n",
            "Casilla 2: 1\n",
            "Casilla 3: 3 (CORRECTO)\n",
            "Sigue intentando...\n",
            "\n",
            "Intento 6 de 10\n",
            "Elige un número entre 1 y 10 para la casilla 1: 9\n",
            "Elige un número entre 1 y 10 para la casilla 2: 6\n",
            "Elige un número entre 1 y 10 para la casilla 3: 3\n",
            "Casilla 1: 9\n",
            "Casilla 2: 6\n",
            "Casilla 3: 3 (CORRECTO)\n",
            "Sigue intentando...\n",
            "\n",
            "Intento 7 de 10\n",
            "Elige un número entre 1 y 10 para la casilla 1: 1\n",
            "Elige un número entre 1 y 10 para la casilla 2: 4\n",
            "Elige un número entre 1 y 10 para la casilla 3: 3\n",
            "Casilla 1: 1 (CORRECTO)\n",
            "Casilla 2: 4\n",
            "Casilla 3: 3 (CORRECTO)\n",
            "Sigue intentando...\n",
            "\n",
            "Intento 8 de 10\n",
            "Elige un número entre 1 y 10 para la casilla 1: 1\n",
            "Elige un número entre 1 y 10 para la casilla 2: 7\n",
            "Elige un número entre 1 y 10 para la casilla 3: 3\n",
            "Casilla 1: 1 (CORRECTO)\n",
            "Casilla 2: 7\n",
            "Casilla 3: 3 (CORRECTO)\n",
            "Sigue intentando...\n",
            "\n",
            "Intento 9 de 10\n",
            "Elige un número entre 1 y 10 para la casilla 1: 1\n",
            "Elige un número entre 1 y 10 para la casilla 2: 8\n",
            "Elige un número entre 1 y 10 para la casilla 3: 3\n",
            "Casilla 1: 1 (CORRECTO)\n",
            "Casilla 2: 8\n",
            "Casilla 3: 3 (CORRECTO)\n",
            "Sigue intentando...\n",
            "\n",
            "Intento 10 de 10\n",
            "Elige un número entre 1 y 10 para la casilla 1: 1\n",
            "Elige un número entre 1 y 10 para la casilla 2: 10\n",
            "Elige un número entre 1 y 10 para la casilla 3: 3\n",
            "Casilla 1: 1 (CORRECTO)\n",
            "Casilla 2: 10 (CORRECTO)\n",
            "Casilla 3: 3 (CORRECTO)\n",
            "¡Felicidades! Has adivinado todos los números correctamente.\n"
          ]
        }
      ]
    }
  ]
}