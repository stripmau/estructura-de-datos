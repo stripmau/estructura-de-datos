{
  "nbformat": 4,
  "nbformat_minor": 0,
  "metadata": {
    "colab": {
      "provenance": [],
      "authorship_tag": "ABX9TyOfkb2yrKdIbmiRWzveOR9U",
      "include_colab_link": true
    },
    "kernelspec": {
      "name": "python3",
      "display_name": "Python 3"
    },
    "language_info": {
      "name": "python"
    }
  },
  "cells": [
    {
      "cell_type": "markdown",
      "metadata": {
        "id": "view-in-github",
        "colab_type": "text"
      },
      "source": [
        "<a href=\"https://colab.research.google.com/github/stripmau/estructura-de-datos/blob/main/preexamen.ipynb\" target=\"_parent\"><img src=\"https://colab.research.google.com/assets/colab-badge.svg\" alt=\"Open In Colab\"/></a>"
      ]
    },
    {
      "cell_type": "markdown",
      "source": [],
      "metadata": {
        "id": "NBCUt4DvaI4R"
      }
    },
    {
      "cell_type": "markdown",
      "source": [
        "pre examen"
      ],
      "metadata": {
        "id": "xg38ECrlaKEP"
      }
    },
    {
      "cell_type": "code",
      "execution_count": null,
      "metadata": {
        "id": "3B_Sj2IwEP70"
      },
      "outputs": [],
      "source": [
        "class Cafe:\n",
        "    def __init__(self):\n",
        "        self.menu = { \"cafe negro\": 2.0, \"cafe con leche\": 2.5, \"capuchino\": 3.0, \"te\": 2.0 }\n",
        "        self.ventas = 0.0\n",
        "        self.cola_espera = []\n",
        "\n",
        "    def tomar_pedido(self, cliente, pedido):\n",
        "        if pedido in self.menu:\n",
        "            self.cola_espera.append((cliente, pedido))\n",
        "            print(f\"¡Pedido de {cliente} para {pedido} recibido!\")\n",
        "        else:\n",
        "            print(\"Lo siento, ese producto no está en el menú.\")\n",
        "\n",
        "    def atender_pedidos(self):\n",
        "        if len(self.cola_espera) == 0:\n",
        "            print(\"No hay pedidos pendientes en la cola.\")\n",
        "            return\n",
        "        cliente, pedido = self.cola_espera.pop(0)\n",
        "        costo = self.menu[pedido]\n",
        "        self.ventas += costo\n",
        "        print(f\"{cliente}, su {pedido} está listo. Total a pagar: ${costo:.2f}\")\n",
        "\n",
        "    def mostrar_ventas(self):\n",
        "        print(f\"Total de ventas: ${self.ventas:.2f}\")\n",
        "\n",
        "    def contar_pedidos(self, producto):\n",
        "        count = sum(1 for cliente, pedido in self.cola_espera if pedido == producto)\n",
        "        return count\n",
        "\n",
        "    def mostrar_menu(self):\n",
        "        print(\"Menú:\")\n",
        "        for producto, precio in self.menu.items():\n",
        "            print(f\"{producto}: ${precio:.2f}\")\n",
        "\n",
        "def main():\n",
        "    cafe = Cafe()\n",
        "\n",
        "    while True:\n",
        "        print(\"\\nOpciones:\")\n",
        "        print(\"1. Tomar pedido de un cliente\")\n",
        "        print(\"2. Atender pedidos en la cola\")\n",
        "        print(\"3. Mostrar total de ventas\")\n",
        "        print(\"4. Contar pedidos de un producto\")\n",
        "        print(\"6. Salir\")\n",
        "\n",
        "        choice = input(\"Elige una opcion de las anteriores: \")\n",
        "\n",
        "        if choice == '1':\n",
        "            cliente = input(\"Nombre del cliente: \")\n",
        "            cafe.mostrar_menu()\n",
        "            pedido = input(\"Producto deseado del menú: \")\n",
        "            cafe.tomar_pedido(cliente, pedido)\n",
        "        elif choice == '2':\n",
        "            cafe.atender_pedidos()\n",
        "        elif choice == '3':\n",
        "            cafe.mostrar_ventas()\n",
        "        elif choice == '4':\n",
        "            producto = input(\"Ingresa el nombre del producto para contar pedidos: \")\n",
        "            count = cafe.contar_pedidos(producto)\n",
        "            print(f\"Se han pedido {count} veces el producto {producto}.\")\n",
        "\n",
        "        elif choice == '6':\n",
        "            break\n",
        "        else:\n",
        "            print(\"Opción no válida. Inténtalo de nuevo.\")\n",
        "\n",
        "if __name__ == \"__main__\":\n",
        "    main()"
      ]
    }
  ]
}