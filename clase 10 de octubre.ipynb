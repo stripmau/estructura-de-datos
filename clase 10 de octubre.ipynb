{
  "nbformat": 4,
  "nbformat_minor": 0,
  "metadata": {
    "colab": {
      "provenance": [],
      "authorship_tag": "ABX9TyNn6PDyPl5qS4fbSmKz7LT8",
      "include_colab_link": true
    },
    "kernelspec": {
      "name": "python3",
      "display_name": "Python 3"
    },
    "language_info": {
      "name": "python"
    }
  },
  "cells": [
    {
      "cell_type": "markdown",
      "metadata": {
        "id": "view-in-github",
        "colab_type": "text"
      },
      "source": [
        "<a href=\"https://colab.research.google.com/github/stripmau/estructura-de-datos/blob/main/clase%2010%20de%20octubre.ipynb\" target=\"_parent\"><img src=\"https://colab.research.google.com/assets/colab-badge.svg\" alt=\"Open In Colab\"/></a>"
      ]
    },
    {
      "cell_type": "code",
      "execution_count": 17,
      "metadata": {
        "colab": {
          "base_uri": "https://localhost:8080/"
        },
        "id": "wwuiOSEpVm1z",
        "outputId": "5ceb38aa-49c8-4bc3-a988-a34aa46dbb2c"
      },
      "outputs": [
        {
          "output_type": "stream",
          "name": "stdout",
          "text": [
            "10\n",
            "34\n",
            "45\n",
            "50\n",
            "89\n",
            "45\n",
            "34\n",
            "50\n",
            "10\n",
            "89\n",
            "45\n",
            "50\n",
            "34\n",
            "89\n",
            "10\n"
          ]
        }
      ],
      "source": [
        "from collections import deque\n",
        "\n",
        "class Node:\n",
        "    def __init__(self, data):\n",
        "        self.left = None\n",
        "        self.right = None\n",
        "        self.data = data\n",
        "\n",
        "    def preorder(self,node):\n",
        "      if node:\n",
        "          print(node.data)\n",
        "          self.preorder(node.left)\n",
        "          self.preorder(node.right)\n",
        "\n",
        "    def inorder(self,node):\n",
        "      if node:\n",
        "          self.inorder(node.left)\n",
        "          print(node.data)\n",
        "          self.inorder(node.right)\n",
        "    def postorder(self,node):\n",
        "      if node:\n",
        "          self.postorder(node.left)\n",
        "          self.postorder(node.right)\n",
        "          print(node.data)\n",
        "\n",
        "root = Node(10)\n",
        "root.left = Node(34)\n",
        "root.right = Node(89)\n",
        "root.left.left = Node(45)\n",
        "root.left.right = Node(50)\n",
        "\n",
        "root.preorder(root)\n",
        "root.inorder(root)\n",
        "root.postorder(root)\n",
        "\n",
        "\n"
      ]
    }
  ]
}