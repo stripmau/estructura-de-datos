{
  "nbformat": 4,
  "nbformat_minor": 0,
  "metadata": {
    "colab": {
      "provenance": [],
      "authorship_tag": "ABX9TyOLupyvzioUyVdbngybH8YK",
      "include_colab_link": true
    },
    "kernelspec": {
      "name": "python3",
      "display_name": "Python 3"
    },
    "language_info": {
      "name": "python"
    }
  },
  "cells": [
    {
      "cell_type": "markdown",
      "metadata": {
        "id": "view-in-github",
        "colab_type": "text"
      },
      "source": [
        "<a href=\"https://colab.research.google.com/github/stripmau/estructura-de-datos/blob/main/clase%2017%20de%20octubre.ipynb\" target=\"_parent\"><img src=\"https://colab.research.google.com/assets/colab-badge.svg\" alt=\"Open In Colab\"/></a>"
      ]
    },
    {
      "cell_type": "code",
      "source": [
        "class Arbol (object):\n",
        "  def __init__(self):\n",
        "    self.der = None\n",
        "    self.izq = None\n",
        "    self.dato = None\n",
        "\n",
        "raiz = Arbol()\n",
        "raiz.dato ='raiz'\n",
        "raiz.izq = Arbol()\n",
        "raiz.izq.dato = 'Izquierda'\n",
        "raiz.der = Arbol()\n",
        "raiz.der.dato ='Derecho'\n",
        "\n",
        "print(raiz.izq.dato)\n",
        "\n",
        "\n"
      ],
      "metadata": {
        "colab": {
          "base_uri": "https://localhost:8080/"
        },
        "id": "P1qHqJobTTm8",
        "outputId": "a8446c63-7eb5-4b84-e6b8-7929b719411f"
      },
      "execution_count": 15,
      "outputs": [
        {
          "output_type": "stream",
          "name": "stdout",
          "text": [
            "Izquierda\n"
          ]
        }
      ]
    },
    {
      "cell_type": "code",
      "source": [
        "class Arbol (object):\n",
        "  def __init__(self):\n",
        "    self.der = None\n",
        "    self.izq = None\n",
        "    self.dato = None\n",
        "\n",
        "raiz = Arbol()\n",
        "raiz.dato ='raiz'\n",
        "raiz.izq = Arbol()\n",
        "raiz.izq.dato = 'Izquierda'\n",
        "raiz.der = Arbol()\n",
        "raiz.der.dato ='Derecho'\n",
        "\n",
        "\n",
        "raiz.izq.izq =Arbol()\n",
        "raiz.izq.izq.dato ='izquierda 2'\n",
        "raiz.izq.der=Arbol()\n",
        "raiz.izq.der.dat='izquierda - derecha'\n",
        ""
      ],
      "metadata": {
        "id": "XPkS2OC5YT0f"
      },
      "execution_count": null,
      "outputs": []
    },
    {
      "cell_type": "code",
      "source": [
        "class Arbol(object)\n",
        "  def __init__(self):\n",
        "    self.der=None\n",
        "    self.der2=None\n",
        "    self.cent=None\n",
        "    self.izq=None\n",
        "    self.izq2=None\n",
        "    self.dato=None\n",
        "\n"
      ],
      "metadata": {
        "id": "eGRW0BNCZBZR"
      },
      "execution_count": null,
      "outputs": []
    },
    {
      "cell_type": "code",
      "source": [
        "class Node:\n",
        "    def __init__(self, data):\n",
        "        self.data = data\n",
        "        self.left = None\n",
        "        self.right = None\n",
        "\n",
        "\n",
        "root = Node(1)\n",
        "root.left = Node(2)\n",
        "root.right = Node(3)\n",
        "root.left.left = Node(4)\n",
        "root.left.right = Node(5)\n",
        "root.right.left = Node(6)\n",
        "root.right.right = Node(7)\n",
        "\n",
        "\n",
        "def preorder(node):\n",
        "    if node:\n",
        "        print(node.data)\n",
        "        preorder(node.left)\n",
        "        preorder(node.right)\n",
        "\n",
        "\n",
        "preorder(root)\n"
      ],
      "metadata": {
        "id": "Ex4sd5GMZqlg",
        "outputId": "460d5a7f-aa39-490b-e7e3-6ea5d37fffe6",
        "colab": {
          "base_uri": "https://localhost:8080/"
        }
      },
      "execution_count": 18,
      "outputs": [
        {
          "output_type": "stream",
          "name": "stdout",
          "text": [
            "1\n",
            "2\n",
            "4\n",
            "5\n",
            "3\n",
            "6\n",
            "7\n"
          ]
        }
      ]
    },
    {
      "cell_type": "code",
      "source": [
        "def inorder(node)\n",
        "  if node:\n",
        "    inorder(node.left)\n",
        "    print(node.data)\n",
        "    inorder(node.right)\n"
      ],
      "metadata": {
        "id": "Y469tksfaCTl"
      },
      "execution_count": null,
      "outputs": []
    },
    {
      "cell_type": "code",
      "source": [
        "def postorder(node):\n",
        "  if node:\n",
        "\n",
        "    postorder(node.left)\n",
        "    postorder(node.right)\n",
        "    print(node.data)\n",
        "\n",
        "\n",
        "\n"
      ],
      "metadata": {
        "id": "k5aeUieMafA9"
      },
      "execution_count": null,
      "outputs": []
    },
    {
      "cell_type": "code",
      "source": [
        "class Node:\n",
        "  def __init__(self,  value=None, izq=None, der=None):\n",
        "    self.value=value\n",
        "    self.izq = izq\n",
        "    self.der = der\n",
        ""
      ],
      "metadata": {
        "id": "PvoYx3KNhPfd"
      },
      "execution_count": null,
      "outputs": []
    }
  ]
}