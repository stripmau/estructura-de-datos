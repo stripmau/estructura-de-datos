{
  "nbformat": 4,
  "nbformat_minor": 0,
  "metadata": {
    "colab": {
      "provenance": [],
      "authorship_tag": "ABX9TyO0nFWan+gNs7kU938HRTtl",
      "include_colab_link": true
    },
    "kernelspec": {
      "name": "python3",
      "display_name": "Python 3"
    },
    "language_info": {
      "name": "python"
    }
  },
  "cells": [
    {
      "cell_type": "markdown",
      "metadata": {
        "id": "view-in-github",
        "colab_type": "text"
      },
      "source": [
        "<a href=\"https://colab.research.google.com/github/stripmau/estructura-de-datos/blob/main/list%20tex%2012/09.ipynb\" target=\"_parent\"><img src=\"https://colab.research.google.com/assets/colab-badge.svg\" alt=\"Open In Colab\"/></a>"
      ]
    },
    {
      "cell_type": "code",
      "execution_count": 12,
      "metadata": {
        "colab": {
          "base_uri": "https://localhost:8080/"
        },
        "id": "mckW9By_EFG7",
        "outputId": "6d31959f-849d-4458-fe50-282fb2dac5ab"
      },
      "outputs": [
        {
          "output_type": "stream",
          "name": "stdout",
          "text": [
            "MAU - CHUY - ALAN - silvi - "
          ]
        }
      ],
      "source": [
        "class node:\n",
        "    def __init__(self, data = None, next = None):\n",
        "        self.data = data\n",
        "        self.next = next\n",
        "\n",
        "class linked_list:\n",
        "    def __init__(self):\n",
        "        self.head = None\n",
        "\n",
        "    def add_at_front(self, data):\n",
        "        self.head = node(data=data, next=self.head)\n",
        "\n",
        "    def is_empty(self):\n",
        "        return self.head == None\n",
        "\n",
        "    def add_at_end(self, data):\n",
        "        if not self.head:\n",
        "            self.head = node(data=data)\n",
        "            return\n",
        "        curr = self.head\n",
        "        while curr.next:\n",
        "            curr = curr.next\n",
        "        curr.next = node(data=data)\n",
        "\n",
        "    def delete_node(self, key):\n",
        "        curr = self.head\n",
        "        prev = None\n",
        "        while curr and curr.data != key:\n",
        "            prev = curr\n",
        "            curr = curr.next\n",
        "        if prev is None:\n",
        "            self.head = curr.next\n",
        "        elif curr:\n",
        "            prev.next = curr.next\n",
        "            curr.next = None\n",
        "\n",
        "    def get_last_node(self):\n",
        "        temp = self.head\n",
        "        while(temp.next is not None):\n",
        "            temp = temp.next\n",
        "        return temp.data\n",
        "\n",
        "    def print_list( self ):\n",
        "        node = self.head\n",
        "        while node != None:\n",
        "            print(node.data, end =\" - \")\n",
        "            node = node.next\n",
        "\n",
        "s = linked_list()\n",
        "s.add_at_front(\"CHUY\")\n",
        "s.add_at_end(\"ALAN\")\n",
        "s.add_at_front(\"MAU\")\n",
        "s.add_at_end(\"silvi\")\n",
        "s.print_list()\n"
      ]
    }
  ]
}